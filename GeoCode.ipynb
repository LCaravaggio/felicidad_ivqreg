{
  "nbformat": 4,
  "nbformat_minor": 0,
  "metadata": {
    "colab": {
      "provenance": [],
      "authorship_tag": "ABX9TyO0dYASg9S3JPqRqUa8Idn6",
      "include_colab_link": true
    },
    "kernelspec": {
      "name": "python3",
      "display_name": "Python 3"
    },
    "language_info": {
      "name": "python"
    }
  },
  "cells": [
    {
      "cell_type": "markdown",
      "metadata": {
        "id": "view-in-github",
        "colab_type": "text"
      },
      "source": [
        "<a href=\"https://colab.research.google.com/github/LCaravaggio/felicidad_ivqreg/blob/main/GeoCode.ipynb\" target=\"_parent\"><img src=\"https://colab.research.google.com/assets/colab-badge.svg\" alt=\"Open In Colab\"/></a>"
      ]
    },
    {
      "cell_type": "code",
      "execution_count": 6,
      "metadata": {
        "colab": {
          "base_uri": "https://localhost:8080/"
        },
        "id": "DDmJLYE1Sy5w",
        "outputId": "6d416bd9-b496-4c3c-f2b0-3afa58636d02"
      },
      "outputs": [
        {
          "output_type": "stream",
          "name": "stdout",
          "text": [
            "--2023-10-02 18:37:12--  https://ookla-open-data.s3.amazonaws.com/shapefiles/performance/type=fixed/year=2020/quarter=4/2020-10-01_performance_fixed_tiles.zip\n",
            "Resolving ookla-open-data.s3.amazonaws.com (ookla-open-data.s3.amazonaws.com)... 52.92.176.105, 52.92.148.241, 52.92.192.169, ...\n",
            "Connecting to ookla-open-data.s3.amazonaws.com (ookla-open-data.s3.amazonaws.com)|52.92.176.105|:443... connected.\n",
            "HTTP request sent, awaiting response... 200 OK\n",
            "Length: 378399344 (361M) [application/zip]\n",
            "Saving to: ‘2020-10-01_performance_fixed_tiles.zip’\n",
            "\n",
            "2020-10-01_performa 100%[===================>] 360.87M  12.1MB/s    in 29s     \n",
            "\n",
            "2023-10-02 18:37:42 (12.4 MB/s) - ‘2020-10-01_performance_fixed_tiles.zip’ saved [378399344/378399344]\n",
            "\n"
          ]
        }
      ],
      "source": [
        "!wget \"https://ookla-open-data.s3.amazonaws.com/shapefiles/performance/type=fixed/year=2020/quarter=4/2020-10-01_performance_fixed_tiles.zip\""
      ]
    },
    {
      "cell_type": "code",
      "source": [
        "import zipfile\n",
        "import os\n",
        "\n",
        "os.listdir()\n",
        "\n",
        "for file in os.listdir():\n",
        "    if file.endswith('.zip'):\n",
        "      zip_ref = zipfile.ZipFile(file, 'r')\n",
        "      zip_ref.extractall()\n",
        "      zip_ref.close()"
      ],
      "metadata": {
        "id": "pvCX9pCiTEhm"
      },
      "execution_count": 7,
      "outputs": []
    },
    {
      "cell_type": "code",
      "source": [
        "!pip install simpledbf\n",
        "from simpledbf import Dbf5\n",
        "dbf = Dbf5('/content/gps_fixed_tiles.dbf')\n",
        "df = dbf.to_dataframe()"
      ],
      "metadata": {
        "colab": {
          "base_uri": "https://localhost:8080/"
        },
        "id": "Mpo5oHmcW7zu",
        "outputId": "a4a68677-0cb2-420d-c82d-a7d982c96aa0"
      },
      "execution_count": 8,
      "outputs": [
        {
          "output_type": "stream",
          "name": "stdout",
          "text": [
            "Requirement already satisfied: simpledbf in /usr/local/lib/python3.10/dist-packages (0.2.6)\n"
          ]
        }
      ]
    },
    {
      "cell_type": "code",
      "source": [
        "!pip install pyquadkey2\n",
        "\n",
        "from pyquadkey2 import quadkey"
      ],
      "metadata": {
        "colab": {
          "base_uri": "https://localhost:8080/"
        },
        "id": "gRqfnVkVXhUJ",
        "outputId": "02b8d812-dc47-4dd3-e6b2-95b3588920de"
      },
      "execution_count": 9,
      "outputs": [
        {
          "output_type": "stream",
          "name": "stdout",
          "text": [
            "Collecting pyquadkey2\n",
            "  Downloading pyquadkey2-0.2.2-cp310-cp310-manylinux_2_5_x86_64.manylinux1_x86_64.whl (136 kB)\n",
            "\u001b[?25l     \u001b[90m━━━━━━━━━━━━━━━━━━━━━━━━━━━━━━━━━━━━━━━━\u001b[0m \u001b[32m0.0/136.5 kB\u001b[0m \u001b[31m?\u001b[0m eta \u001b[36m-:--:--\u001b[0m\r\u001b[2K     \u001b[90m━━━━━━━━━━━━━━━━━━━━━━━━━━━━━━━━━━━━━━━\u001b[0m \u001b[32m136.5/136.5 kB\u001b[0m \u001b[31m3.8 MB/s\u001b[0m eta \u001b[36m0:00:00\u001b[0m\n",
            "\u001b[?25hInstalling collected packages: pyquadkey2\n",
            "Successfully installed pyquadkey2-0.2.2\n"
          ]
        }
      ]
    },
    {
      "cell_type": "code",
      "source": [
        "def qk_to_geo(quadkey_str, zoom_level):\n",
        "    qk = quadkey.from_str(quadkey_str)\n",
        "    lat_lon = qk.to_geo(zoom_level)\n",
        "    return lat_lon"
      ],
      "metadata": {
        "id": "4k3eGRwFcOYj"
      },
      "execution_count": 10,
      "outputs": []
    },
    {
      "cell_type": "code",
      "source": [
        "df['geo'] = df['quadkey'].apply(qk_to_geo , zoom_level=1)"
      ],
      "metadata": {
        "id": "sBvBqKNMuu5H"
      },
      "execution_count": 11,
      "outputs": []
    },
    {
      "cell_type": "code",
      "source": [
        "import requests\n",
        "from bs4 import BeautifulSoup\n",
        "\n",
        "def Citytolatlon(city):\n",
        "  api_url = 'http://www.geonames.org/search.html?q={}'\n",
        "  response = requests.get(api_url + city)\n",
        "  text=\"\"\n",
        "  if response.status_code == requests.codes.ok:\n",
        "    soup = BeautifulSoup(response.text, 'html.parser')\n",
        "    td_elements = soup.find_all('td', nowrap=True)\n",
        "    count = 0\n",
        "    for td in td_elements:\n",
        "      text += td.get_text(strip=True)\n",
        "      count+=1\n",
        "\n",
        "      if count == 2:\n",
        "          break\n",
        "  else:\n",
        "      print(\"Error:\", response.status_code, response.text)\n",
        "  return text"
      ],
      "metadata": {
        "id": "vR5ENXQ0jTiA"
      },
      "execution_count": 12,
      "outputs": []
    },
    {
      "cell_type": "code",
      "source": [
        "!pip install latlon3\n",
        "import latlon"
      ],
      "metadata": {
        "colab": {
          "base_uri": "https://localhost:8080/"
        },
        "id": "4s50mkgDpcZz",
        "outputId": "ee4aa449-6582-4d1a-e7c5-802736640473"
      },
      "execution_count": 13,
      "outputs": [
        {
          "output_type": "stream",
          "name": "stdout",
          "text": [
            "Collecting latlon3\n",
            "  Downloading latlon3-1.0.4.tar.gz (25 kB)\n",
            "  Preparing metadata (setup.py) ... \u001b[?25l\u001b[?25hdone\n",
            "Requirement already satisfied: six in /usr/local/lib/python3.10/dist-packages (from latlon3) (1.16.0)\n",
            "Requirement already satisfied: pyproj in /usr/local/lib/python3.10/dist-packages (from latlon3) (3.6.0)\n",
            "Requirement already satisfied: certifi in /usr/local/lib/python3.10/dist-packages (from pyproj->latlon3) (2023.7.22)\n",
            "Building wheels for collected packages: latlon3\n",
            "  Building wheel for latlon3 (setup.py) ... \u001b[?25l\u001b[?25hdone\n",
            "  Created wheel for latlon3: filename=latlon3-1.0.4-py3-none-any.whl size=31367 sha256=c7e3459a87f0a749e6d8fcaad1b9323f29886e7f025fcfd3e3021fe168196713\n",
            "  Stored in directory: /root/.cache/pip/wheels/80/4d/11/7acb2342b2d16d9253d5cb76bbe83de3b7666bf57e27592ef6\n",
            "Successfully built latlon3\n",
            "Installing collected packages: latlon3\n",
            "Successfully installed latlon3-1.0.4\n"
          ]
        }
      ]
    },
    {
      "cell_type": "code",
      "source": [
        "from latlon import Latitude, Longitude, string2latlon"
      ],
      "metadata": {
        "id": "3W8HO2i1sfbJ"
      },
      "execution_count": 14,
      "outputs": []
    },
    {
      "cell_type": "code",
      "source": [
        "import re\n",
        "\n",
        "class LL:\n",
        "    __name__ = 'LatLon'\n",
        "    def __init__(self, lat, lon, name=None):\n",
        "\n",
        "        try:\n",
        "            if lat.type() == 'GeoCoord':\n",
        "                self.lat = lat\n",
        "            else:\n",
        "                raise AttributeError\n",
        "        except AttributeError:\n",
        "            self.lat = Latitude(lat)\n",
        "        try:\n",
        "            if lon.type() == 'GeoCoord':\n",
        "                self.lon = lon\n",
        "            else:\n",
        "                raise AttributeError\n",
        "        except AttributeError:\n",
        "            self.lon = Longitude(lon)\n",
        "        self.name = name\n",
        "\n",
        "def toLatLong (texto):\n",
        "  pattern = r\"([SN])\\s+(\\d+)°\\s+(\\d+)[′']\\s+(\\d+)''([EW])\\s+(\\d+)°\\s+(\\d+)[′']\\s+(\\d+)''\"\n",
        "\n",
        "  matches = re.findall(pattern, texto.replace('�','°'))\n",
        "\n",
        "  if matches:\n",
        "    direction1, degrees1, minutes1, seconds1, direction2, degrees2, minutes2, seconds2 = matches[0]\n",
        "    output_str1 = f\"{degrees1} {minutes1} {seconds1} {direction1}\"\n",
        "    output_str2 = f\"{degrees2} {minutes2} {seconds2} {direction2}\"\n",
        "\n",
        "  else:\n",
        "    output_str1=\"0 0 0 N\"\n",
        "    output_str2=\"0 0 0 E\"\n",
        "\n",
        "  return string2latlon(output_str1, output_str2, 'd% %m% %S% %H')"
      ],
      "metadata": {
        "id": "TuvqUriAuHP0"
      },
      "execution_count": 75,
      "outputs": []
    },
    {
      "cell_type": "code",
      "source": [
        "import pandas as pd\n",
        "base=pd.read_stata('LB2020.dta')"
      ],
      "metadata": {
        "id": "cv2NlNyxDpS2"
      },
      "execution_count": 17,
      "outputs": []
    },
    {
      "cell_type": "code",
      "source": [
        "lista_ciudades=base['ciudad'].unique()"
      ],
      "metadata": {
        "id": "73fCnl3fEVbm"
      },
      "execution_count": 18,
      "outputs": []
    },
    {
      "cell_type": "code",
      "source": [
        "latsylongs=[]\n",
        "for ciudad in lista_ciudades:\n",
        "    # Get the latitude and longitude for the current city\n",
        "    lat_lon = toLatLong(Citytolatlon(ciudad.encode('latin-1').decode('utf-8')))\n",
        "\n",
        "    # Append the lat_lon values as a list to the matrix\n",
        "    latsylongs.append([ciudad, lat_lon.lat, lat_lon.lon])\n",
        "\n",
        "# Create a DataFrame from the list of lists\n",
        "ciudades_latlon = pd.DataFrame(latsylongs, columns=['City', 'Latitude', 'Longitude'])"
      ],
      "metadata": {
        "id": "lMf8pKDVEhYw"
      },
      "execution_count": 79,
      "outputs": []
    },
    {
      "cell_type": "code",
      "source": [
        "ciudades_latlon['Latitude']=ciudades_latlon['Latitude'].astype(float)\n",
        "ciudades_latlon['Longitude']=ciudades_latlon['Longitude'].astype(float)"
      ],
      "metadata": {
        "id": "d8wuLgefWvg2"
      },
      "execution_count": 104,
      "outputs": []
    },
    {
      "cell_type": "code",
      "source": [
        "(ciudades_latlon['Latitude'] != 0).sum()"
      ],
      "metadata": {
        "colab": {
          "base_uri": "https://localhost:8080/"
        },
        "id": "i8rgAYr1boFP",
        "outputId": "9a128296-3c10-4df8-fb83-3d7b9bf9be75"
      },
      "execution_count": 105,
      "outputs": [
        {
          "output_type": "execute_result",
          "data": {
            "text/plain": [
              "1166"
            ]
          },
          "metadata": {},
          "execution_count": 105
        }
      ]
    },
    {
      "cell_type": "code",
      "source": [
        "ciudades_latlon['avg_d_kbps']=\"\"\n",
        "ciudades_latlon['avg_u_kbps']=\"\"\n",
        "ciudades_latlon['avg_lat_ms']=\"\""
      ],
      "metadata": {
        "id": "8pitJ6Gu-f5X"
      },
      "execution_count": 106,
      "outputs": []
    },
    {
      "cell_type": "code",
      "source": [
        "from scipy.spatial import cKDTree\n",
        "import numpy as np\n",
        "\n",
        "kdtree = cKDTree(df['geo'].apply(lambda x: (np.radians(x[0]), np.radians(x[1]))).tolist())"
      ],
      "metadata": {
        "id": "dgk1p3UfeOaT"
      },
      "execution_count": 116,
      "outputs": []
    },
    {
      "cell_type": "code",
      "source": [
        "def find_nearest_city(row):\n",
        "    lat, lon = np.radians(row['Latitude']), np.radians(row['Longitude'])\n",
        "    dist, idx = kdtree.query([lat, lon])\n",
        "    return pd.Series([df.at[idx, 'avg_d_kbps'], df.at[idx, 'avg_u_kbps'], df.at[idx, 'avg_lat_ms']])\n",
        "\n",
        "ciudades_latlon[['avg_d_kbps', 'avg_u_kbps', 'avg_lat_ms']] = ciudades_latlon.apply(find_nearest_city, axis=1)"
      ],
      "metadata": {
        "id": "6MPnBiNZCX_M"
      },
      "execution_count": 125,
      "outputs": []
    },
    {
      "cell_type": "code",
      "source": [
        "ciudades_latlon"
      ],
      "metadata": {
        "id": "LDnTVm0qBv0I",
        "outputId": "86ed4793-cf78-4441-8cf2-8db140da2502",
        "colab": {
          "base_uri": "https://localhost:8080/",
          "height": 424
        }
      },
      "execution_count": 126,
      "outputs": [
        {
          "output_type": "execute_result",
          "data": {
            "text/plain": [
              "                                            City   Latitude  Longitude  \\\n",
              "0              AR: Buenos Aires-Presidente Peron -34.917778 -58.379167   \n",
              "1     AR: Capital Federal-Ciudad de Buenos Aires -34.613056 -58.377222   \n",
              "2                      AR: Buenos Aires-Suipacha -34.750000 -59.750000   \n",
              "3                      AR: Buenos Aires-Necochea -38.554444 -58.739444   \n",
              "4                             AR: TucumÃ¡n-Lules -26.928611 -65.338333   \n",
              "...                                          ...        ...        ...   \n",
              "1367                         VE: Miranda-Acevedo  10.250000 -66.333333   \n",
              "1368                          VE: Monagas-Caripe  10.166667 -63.416667   \n",
              "1369                     VE: Trujillo-Candelaria   9.618056 -70.356944   \n",
              "1370                        VE: Trujillo-Carache   9.666667 -70.333333   \n",
              "1371                        VE: Trujillo-PampÃ¡n   9.444722 -70.477500   \n",
              "\n",
              "      avg_d_kbps  avg_u_kbps  avg_lat_ms  \n",
              "0          44754        8949          13  \n",
              "1          58761       13477          14  \n",
              "2           6418        1665          49  \n",
              "3          18383        4087          26  \n",
              "4           9471        6714          25  \n",
              "...          ...         ...         ...  \n",
              "1367        1640         843         150  \n",
              "1368         112        1086         354  \n",
              "1369         455          83         202  \n",
              "1370         365         184         104  \n",
              "1371        7602         881          37  \n",
              "\n",
              "[1372 rows x 6 columns]"
            ],
            "text/html": [
              "\n",
              "  <div id=\"df-3cf3429b-fcbe-4fb0-bc2b-83af1851d3ef\" class=\"colab-df-container\">\n",
              "    <div>\n",
              "<style scoped>\n",
              "    .dataframe tbody tr th:only-of-type {\n",
              "        vertical-align: middle;\n",
              "    }\n",
              "\n",
              "    .dataframe tbody tr th {\n",
              "        vertical-align: top;\n",
              "    }\n",
              "\n",
              "    .dataframe thead th {\n",
              "        text-align: right;\n",
              "    }\n",
              "</style>\n",
              "<table border=\"1\" class=\"dataframe\">\n",
              "  <thead>\n",
              "    <tr style=\"text-align: right;\">\n",
              "      <th></th>\n",
              "      <th>City</th>\n",
              "      <th>Latitude</th>\n",
              "      <th>Longitude</th>\n",
              "      <th>avg_d_kbps</th>\n",
              "      <th>avg_u_kbps</th>\n",
              "      <th>avg_lat_ms</th>\n",
              "    </tr>\n",
              "  </thead>\n",
              "  <tbody>\n",
              "    <tr>\n",
              "      <th>0</th>\n",
              "      <td>AR: Buenos Aires-Presidente Peron</td>\n",
              "      <td>-34.917778</td>\n",
              "      <td>-58.379167</td>\n",
              "      <td>44754</td>\n",
              "      <td>8949</td>\n",
              "      <td>13</td>\n",
              "    </tr>\n",
              "    <tr>\n",
              "      <th>1</th>\n",
              "      <td>AR: Capital Federal-Ciudad de Buenos Aires</td>\n",
              "      <td>-34.613056</td>\n",
              "      <td>-58.377222</td>\n",
              "      <td>58761</td>\n",
              "      <td>13477</td>\n",
              "      <td>14</td>\n",
              "    </tr>\n",
              "    <tr>\n",
              "      <th>2</th>\n",
              "      <td>AR: Buenos Aires-Suipacha</td>\n",
              "      <td>-34.750000</td>\n",
              "      <td>-59.750000</td>\n",
              "      <td>6418</td>\n",
              "      <td>1665</td>\n",
              "      <td>49</td>\n",
              "    </tr>\n",
              "    <tr>\n",
              "      <th>3</th>\n",
              "      <td>AR: Buenos Aires-Necochea</td>\n",
              "      <td>-38.554444</td>\n",
              "      <td>-58.739444</td>\n",
              "      <td>18383</td>\n",
              "      <td>4087</td>\n",
              "      <td>26</td>\n",
              "    </tr>\n",
              "    <tr>\n",
              "      <th>4</th>\n",
              "      <td>AR: TucumÃ¡n-Lules</td>\n",
              "      <td>-26.928611</td>\n",
              "      <td>-65.338333</td>\n",
              "      <td>9471</td>\n",
              "      <td>6714</td>\n",
              "      <td>25</td>\n",
              "    </tr>\n",
              "    <tr>\n",
              "      <th>...</th>\n",
              "      <td>...</td>\n",
              "      <td>...</td>\n",
              "      <td>...</td>\n",
              "      <td>...</td>\n",
              "      <td>...</td>\n",
              "      <td>...</td>\n",
              "    </tr>\n",
              "    <tr>\n",
              "      <th>1367</th>\n",
              "      <td>VE: Miranda-Acevedo</td>\n",
              "      <td>10.250000</td>\n",
              "      <td>-66.333333</td>\n",
              "      <td>1640</td>\n",
              "      <td>843</td>\n",
              "      <td>150</td>\n",
              "    </tr>\n",
              "    <tr>\n",
              "      <th>1368</th>\n",
              "      <td>VE: Monagas-Caripe</td>\n",
              "      <td>10.166667</td>\n",
              "      <td>-63.416667</td>\n",
              "      <td>112</td>\n",
              "      <td>1086</td>\n",
              "      <td>354</td>\n",
              "    </tr>\n",
              "    <tr>\n",
              "      <th>1369</th>\n",
              "      <td>VE: Trujillo-Candelaria</td>\n",
              "      <td>9.618056</td>\n",
              "      <td>-70.356944</td>\n",
              "      <td>455</td>\n",
              "      <td>83</td>\n",
              "      <td>202</td>\n",
              "    </tr>\n",
              "    <tr>\n",
              "      <th>1370</th>\n",
              "      <td>VE: Trujillo-Carache</td>\n",
              "      <td>9.666667</td>\n",
              "      <td>-70.333333</td>\n",
              "      <td>365</td>\n",
              "      <td>184</td>\n",
              "      <td>104</td>\n",
              "    </tr>\n",
              "    <tr>\n",
              "      <th>1371</th>\n",
              "      <td>VE: Trujillo-PampÃ¡n</td>\n",
              "      <td>9.444722</td>\n",
              "      <td>-70.477500</td>\n",
              "      <td>7602</td>\n",
              "      <td>881</td>\n",
              "      <td>37</td>\n",
              "    </tr>\n",
              "  </tbody>\n",
              "</table>\n",
              "<p>1372 rows × 6 columns</p>\n",
              "</div>\n",
              "    <div class=\"colab-df-buttons\">\n",
              "\n",
              "  <div class=\"colab-df-container\">\n",
              "    <button class=\"colab-df-convert\" onclick=\"convertToInteractive('df-3cf3429b-fcbe-4fb0-bc2b-83af1851d3ef')\"\n",
              "            title=\"Convert this dataframe to an interactive table.\"\n",
              "            style=\"display:none;\">\n",
              "\n",
              "  <svg xmlns=\"http://www.w3.org/2000/svg\" height=\"24px\" viewBox=\"0 -960 960 960\">\n",
              "    <path d=\"M120-120v-720h720v720H120Zm60-500h600v-160H180v160Zm220 220h160v-160H400v160Zm0 220h160v-160H400v160ZM180-400h160v-160H180v160Zm440 0h160v-160H620v160ZM180-180h160v-160H180v160Zm440 0h160v-160H620v160Z\"/>\n",
              "  </svg>\n",
              "    </button>\n",
              "\n",
              "  <style>\n",
              "    .colab-df-container {\n",
              "      display:flex;\n",
              "      gap: 12px;\n",
              "    }\n",
              "\n",
              "    .colab-df-convert {\n",
              "      background-color: #E8F0FE;\n",
              "      border: none;\n",
              "      border-radius: 50%;\n",
              "      cursor: pointer;\n",
              "      display: none;\n",
              "      fill: #1967D2;\n",
              "      height: 32px;\n",
              "      padding: 0 0 0 0;\n",
              "      width: 32px;\n",
              "    }\n",
              "\n",
              "    .colab-df-convert:hover {\n",
              "      background-color: #E2EBFA;\n",
              "      box-shadow: 0px 1px 2px rgba(60, 64, 67, 0.3), 0px 1px 3px 1px rgba(60, 64, 67, 0.15);\n",
              "      fill: #174EA6;\n",
              "    }\n",
              "\n",
              "    .colab-df-buttons div {\n",
              "      margin-bottom: 4px;\n",
              "    }\n",
              "\n",
              "    [theme=dark] .colab-df-convert {\n",
              "      background-color: #3B4455;\n",
              "      fill: #D2E3FC;\n",
              "    }\n",
              "\n",
              "    [theme=dark] .colab-df-convert:hover {\n",
              "      background-color: #434B5C;\n",
              "      box-shadow: 0px 1px 3px 1px rgba(0, 0, 0, 0.15);\n",
              "      filter: drop-shadow(0px 1px 2px rgba(0, 0, 0, 0.3));\n",
              "      fill: #FFFFFF;\n",
              "    }\n",
              "  </style>\n",
              "\n",
              "    <script>\n",
              "      const buttonEl =\n",
              "        document.querySelector('#df-3cf3429b-fcbe-4fb0-bc2b-83af1851d3ef button.colab-df-convert');\n",
              "      buttonEl.style.display =\n",
              "        google.colab.kernel.accessAllowed ? 'block' : 'none';\n",
              "\n",
              "      async function convertToInteractive(key) {\n",
              "        const element = document.querySelector('#df-3cf3429b-fcbe-4fb0-bc2b-83af1851d3ef');\n",
              "        const dataTable =\n",
              "          await google.colab.kernel.invokeFunction('convertToInteractive',\n",
              "                                                    [key], {});\n",
              "        if (!dataTable) return;\n",
              "\n",
              "        const docLinkHtml = 'Like what you see? Visit the ' +\n",
              "          '<a target=\"_blank\" href=https://colab.research.google.com/notebooks/data_table.ipynb>data table notebook</a>'\n",
              "          + ' to learn more about interactive tables.';\n",
              "        element.innerHTML = '';\n",
              "        dataTable['output_type'] = 'display_data';\n",
              "        await google.colab.output.renderOutput(dataTable, element);\n",
              "        const docLink = document.createElement('div');\n",
              "        docLink.innerHTML = docLinkHtml;\n",
              "        element.appendChild(docLink);\n",
              "      }\n",
              "    </script>\n",
              "  </div>\n",
              "\n",
              "\n",
              "<div id=\"df-05c00162-f248-438f-a313-15cebdab2196\">\n",
              "  <button class=\"colab-df-quickchart\" onclick=\"quickchart('df-05c00162-f248-438f-a313-15cebdab2196')\"\n",
              "            title=\"Suggest charts.\"\n",
              "            style=\"display:none;\">\n",
              "\n",
              "<svg xmlns=\"http://www.w3.org/2000/svg\" height=\"24px\"viewBox=\"0 0 24 24\"\n",
              "     width=\"24px\">\n",
              "    <g>\n",
              "        <path d=\"M19 3H5c-1.1 0-2 .9-2 2v14c0 1.1.9 2 2 2h14c1.1 0 2-.9 2-2V5c0-1.1-.9-2-2-2zM9 17H7v-7h2v7zm4 0h-2V7h2v10zm4 0h-2v-4h2v4z\"/>\n",
              "    </g>\n",
              "</svg>\n",
              "  </button>\n",
              "\n",
              "<style>\n",
              "  .colab-df-quickchart {\n",
              "      --bg-color: #E8F0FE;\n",
              "      --fill-color: #1967D2;\n",
              "      --hover-bg-color: #E2EBFA;\n",
              "      --hover-fill-color: #174EA6;\n",
              "      --disabled-fill-color: #AAA;\n",
              "      --disabled-bg-color: #DDD;\n",
              "  }\n",
              "\n",
              "  [theme=dark] .colab-df-quickchart {\n",
              "      --bg-color: #3B4455;\n",
              "      --fill-color: #D2E3FC;\n",
              "      --hover-bg-color: #434B5C;\n",
              "      --hover-fill-color: #FFFFFF;\n",
              "      --disabled-bg-color: #3B4455;\n",
              "      --disabled-fill-color: #666;\n",
              "  }\n",
              "\n",
              "  .colab-df-quickchart {\n",
              "    background-color: var(--bg-color);\n",
              "    border: none;\n",
              "    border-radius: 50%;\n",
              "    cursor: pointer;\n",
              "    display: none;\n",
              "    fill: var(--fill-color);\n",
              "    height: 32px;\n",
              "    padding: 0;\n",
              "    width: 32px;\n",
              "  }\n",
              "\n",
              "  .colab-df-quickchart:hover {\n",
              "    background-color: var(--hover-bg-color);\n",
              "    box-shadow: 0 1px 2px rgba(60, 64, 67, 0.3), 0 1px 3px 1px rgba(60, 64, 67, 0.15);\n",
              "    fill: var(--button-hover-fill-color);\n",
              "  }\n",
              "\n",
              "  .colab-df-quickchart-complete:disabled,\n",
              "  .colab-df-quickchart-complete:disabled:hover {\n",
              "    background-color: var(--disabled-bg-color);\n",
              "    fill: var(--disabled-fill-color);\n",
              "    box-shadow: none;\n",
              "  }\n",
              "\n",
              "  .colab-df-spinner {\n",
              "    border: 2px solid var(--fill-color);\n",
              "    border-color: transparent;\n",
              "    border-bottom-color: var(--fill-color);\n",
              "    animation:\n",
              "      spin 1s steps(1) infinite;\n",
              "  }\n",
              "\n",
              "  @keyframes spin {\n",
              "    0% {\n",
              "      border-color: transparent;\n",
              "      border-bottom-color: var(--fill-color);\n",
              "      border-left-color: var(--fill-color);\n",
              "    }\n",
              "    20% {\n",
              "      border-color: transparent;\n",
              "      border-left-color: var(--fill-color);\n",
              "      border-top-color: var(--fill-color);\n",
              "    }\n",
              "    30% {\n",
              "      border-color: transparent;\n",
              "      border-left-color: var(--fill-color);\n",
              "      border-top-color: var(--fill-color);\n",
              "      border-right-color: var(--fill-color);\n",
              "    }\n",
              "    40% {\n",
              "      border-color: transparent;\n",
              "      border-right-color: var(--fill-color);\n",
              "      border-top-color: var(--fill-color);\n",
              "    }\n",
              "    60% {\n",
              "      border-color: transparent;\n",
              "      border-right-color: var(--fill-color);\n",
              "    }\n",
              "    80% {\n",
              "      border-color: transparent;\n",
              "      border-right-color: var(--fill-color);\n",
              "      border-bottom-color: var(--fill-color);\n",
              "    }\n",
              "    90% {\n",
              "      border-color: transparent;\n",
              "      border-bottom-color: var(--fill-color);\n",
              "    }\n",
              "  }\n",
              "</style>\n",
              "\n",
              "  <script>\n",
              "    async function quickchart(key) {\n",
              "      const quickchartButtonEl =\n",
              "        document.querySelector('#' + key + ' button');\n",
              "      quickchartButtonEl.disabled = true;  // To prevent multiple clicks.\n",
              "      quickchartButtonEl.classList.add('colab-df-spinner');\n",
              "      try {\n",
              "        const charts = await google.colab.kernel.invokeFunction(\n",
              "            'suggestCharts', [key], {});\n",
              "      } catch (error) {\n",
              "        console.error('Error during call to suggestCharts:', error);\n",
              "      }\n",
              "      quickchartButtonEl.classList.remove('colab-df-spinner');\n",
              "      quickchartButtonEl.classList.add('colab-df-quickchart-complete');\n",
              "    }\n",
              "    (() => {\n",
              "      let quickchartButtonEl =\n",
              "        document.querySelector('#df-05c00162-f248-438f-a313-15cebdab2196 button');\n",
              "      quickchartButtonEl.style.display =\n",
              "        google.colab.kernel.accessAllowed ? 'block' : 'none';\n",
              "    })();\n",
              "  </script>\n",
              "</div>\n",
              "    </div>\n",
              "  </div>\n"
            ]
          },
          "metadata": {},
          "execution_count": 126
        }
      ]
    },
    {
      "cell_type": "code",
      "source": [
        "ciudades_latlon.to_csv('ciudades_latlon.csv')"
      ],
      "metadata": {
        "id": "-VI-reJahp3v"
      },
      "execution_count": 128,
      "outputs": []
    }
  ]
}